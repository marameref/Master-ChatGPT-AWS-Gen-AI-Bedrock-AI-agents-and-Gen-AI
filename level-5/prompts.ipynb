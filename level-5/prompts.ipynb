{
 "cells": [
  {
   "cell_type": "markdown",
   "metadata": {},
   "source": [
    "## Act as a professional aws architect, give me a detailed and comprehensive design with detailed explanation of how to create a microservice that will recieve data from various sources into s3 and store it in parque format. input files will be 100s of gb. make it beginner friendly"
   ]
  },
  {
   "cell_type": "markdown",
   "metadata": {},
   "source": [
    "## give me code of the entire architecture ie AWS Architecture for Microservice to Ingest and Process Large Data into S3 (Parquet Format)"
   ]
  },
  {
   "cell_type": "code",
   "execution_count": null,
   "metadata": {
    "vscode": {
     "languageId": "plaintext"
    }
   },
   "outputs": [],
   "source": [
    "## give me code of the entire architecture setup using terraform and glue transformation, using pyspark"
   ]
  },
  {
   "cell_type": "markdown",
   "metadata": {},
   "source": [
    "## Consider the data sources as csv and json file types, expected volume to be 100gb in batches, and remove NULL columns, also merge small files into files of at least 25MB, give me updated pyspark code"
   ]
  },
  {
   "cell_type": "markdown",
   "metadata": {},
   "source": [
    "give me 10 unit test cases for all the code"
   ]
  },
  {
   "cell_type": "markdown",
   "metadata": {},
   "source": [
    "Give me QA validation test for the entire design"
   ]
  },
  {
   "cell_type": "markdown",
   "metadata": {},
   "source": [
    "Give me QA validation test for data transformation"
   ]
  },
  {
   "cell_type": "markdown",
   "metadata": {},
   "source": [
    "Now give detailed and comprehensive steps for alerting and monitoring for this design in AWS"
   ]
  },
  {
   "cell_type": "markdown",
   "metadata": {},
   "source": [
    "Now give detailed professional technical documentation for this design"
   ]
  },
  {
   "cell_type": "markdown",
   "metadata": {},
   "source": []
  }
 ],
 "metadata": {
  "language_info": {
   "name": "python"
  }
 },
 "nbformat": 4,
 "nbformat_minor": 2
}
