{
 "cells": [
  {
   "cell_type": "markdown",
   "metadata": {},
   "source": [
    "create a professional resume for a devops engineer with 5 years expecience, with the following tech stacks: bash scripting, powershell, git, github, linux(ubuntu), docker, terraform, ansible, kubernetes, python, github actions, aws cloud, azure clound engineer certification, databases, etc"
   ]
  },
  {
   "cell_type": "markdown",
   "metadata": {},
   "source": [
    "ask 5 simple, 5 intermediate and 5 advanced/difficult interview questions and answers with regard to my expertise"
   ]
  },
  {
   "cell_type": "markdown",
   "metadata": {},
   "source": [
    "ask another 5 simple, 5 intermediate and 5 advanced/difficult interview questions and answers with regard to my expertise (do not repeat questions)"
   ]
  },
  {
   "cell_type": "markdown",
   "metadata": {},
   "source": [
    "Now give me practical projects exercises based on each of these interview question"
   ]
  },
  {
   "cell_type": "markdown",
   "metadata": {},
   "source": [
    "Attach a photo of a pizza to chatgpt using the + sign,\n",
    "Now write a blog of 1000 words on how to prepare recipe of the attached picture"
   ]
  }
 ],
 "metadata": {
  "language_info": {
   "name": "python"
  }
 },
 "nbformat": 4,
 "nbformat_minor": 2
}
